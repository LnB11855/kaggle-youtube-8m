{
 "cells": [
  {
   "cell_type": "code",
   "execution_count": 2,
   "metadata": {
    "collapsed": true
   },
   "outputs": [],
   "source": [
    "import tensorflow as tf"
   ]
  },
  {
   "cell_type": "code",
   "execution_count": 45,
   "metadata": {
    "collapsed": false
   },
   "outputs": [
    {
     "name": "stdout",
     "output_type": "stream",
     "text": [
      "<class 'IPython.utils.text.SList'>\n",
      "kaggleyoutube-8m-mlengine\r\n"
     ]
    }
   ],
   "source": [
    "PROJECT_ID = ! gcloud config list project --format \"value(core.project)\"\n",
    "print type(PROJECT_ID)\n",
    "BUCKET_NAME = PROJECT_ID[2] + \"-mlengine\"\n",
    "! echo $BUCKET_NAME\n",
    "\n",
    "REGION = 'europe-west1'"
   ]
  },
  {
   "cell_type": "code",
   "execution_count": null,
   "metadata": {
    "collapsed": true
   },
   "outputs": [],
   "source": [
    "# Downloads 55MB of data.\n",
    "! gsutil cp gs://us.data.yt8m.org/1/video_level/train/traina[0-9].tfrecord \\\n",
    "    ./tmp"
   ]
  },
  {
   "cell_type": "markdown",
   "metadata": {},
   "source": [
    "## Create the new bucket:"
   ]
  },
  {
   "cell_type": "code",
   "execution_count": 46,
   "metadata": {
    "collapsed": false
   },
   "outputs": [
    {
     "name": "stdout",
     "output_type": "stream",
     "text": [
      "Creating gs://kaggleyoutube-8m-mlengine/...\n",
      "ServiceException: 409 Bucket kaggleyoutube-8m-mlengine already exists.\n"
     ]
    }
   ],
   "source": [
    "! gsutil mb -l $REGION gs://$BUCKET_NAME"
   ]
  },
  {
   "cell_type": "code",
   "execution_count": 91,
   "metadata": {
    "collapsed": false
   },
   "outputs": [
    {
     "name": "stdout",
     "output_type": "stream",
     "text": [
      "Copying file://data/traina0.tfrecord [Content-Type=application/octet-stream]...\n",
      "Copying file://data/traina1.tfrecord [Content-Type=application/octet-stream]... \n",
      "Copying file://data/traina2.tfrecord [Content-Type=application/octet-stream]... \n",
      "Copying file://data/traina3.tfrecord [Content-Type=application/octet-stream]... \n",
      "\\ [4 files][ 21.9 MiB/ 21.9 MiB]    2.6 MiB/s                                   \n",
      "==> NOTE: You are performing a sequence of gsutil operations that may\n",
      "run significantly faster if you instead use gsutil -m -o ... Please\n",
      "see the -m section under \"gsutil help options\" for further information\n",
      "about when gsutil -m can be advantageous.\n",
      "\n",
      "Copying file://data/traina4.tfrecord [Content-Type=application/octet-stream]...\n",
      "Copying file://data/traina5.tfrecord [Content-Type=application/octet-stream]... \n",
      "Copying file://data/traina6.tfrecord [Content-Type=application/octet-stream]... \n",
      "Copying file://data/traina7.tfrecord [Content-Type=application/octet-stream]... \n",
      "Copying file://data/traina8.tfrecord [Content-Type=application/octet-stream]... \n",
      "Copying file://data/traina9.tfrecord [Content-Type=application/octet-stream]... \n",
      "| [10 files][ 54.7 MiB/ 54.7 MiB]    1.7 MiB/s                                  \n",
      "Operation completed over 10 objects/54.7 MiB.                                    \n"
     ]
    }
   ],
   "source": [
    "! gsutil cp -r data gs://$BUCKET_NAME/"
   ]
  },
  {
   "cell_type": "markdown",
   "metadata": {},
   "source": [
    "## Submit the training job."
   ]
  },
  {
   "cell_type": "code",
   "execution_count": 55,
   "metadata": {
    "collapsed": false
   },
   "outputs": [],
   "source": [
    "import datetime"
   ]
  },
  {
   "cell_type": "code",
   "execution_count": 92,
   "metadata": {
    "collapsed": false
   },
   "outputs": [
    {
     "name": "stdout",
     "output_type": "stream",
     "text": [
      "yt8m_train_20170310_021542\n",
      "'gs://kaggleyoutube-8m-mlengine/data/train*.tfrecord'\n"
     ]
    }
   ],
   "source": [
    "d = datetime.datetime.today()\n",
    "d = d.strftime('%Y%m%d_%H%M%S')\n",
    "JOB_NAME = 'yt8m_train_' + d\n",
    "print JOB_NAME\n",
    "\n",
    "train_data_pattern = '\\'gs://' + BUCKET_NAME + '/data/train*.tfrecord\\''\n",
    "print train_data_pattern"
   ]
  },
  {
   "cell_type": "markdown",
   "metadata": {},
   "source": [
    "--config=youtube-8m/cloudml-gpu.yaml \\"
   ]
  },
  {
   "cell_type": "code",
   "execution_count": null,
   "metadata": {
    "collapsed": false
   },
   "outputs": [
    {
     "name": "stdout",
     "output_type": "stream",
     "text": [
      "yt8m_train_20170310_021549\n",
      "DEBUG: Running gcloud.ml-engine.jobs.submit.training with Namespace(_deepest_parser=ArgumentParser(prog='gcloud.ml-engine.jobs.submit.training', usage=None, description='Submits a Cloud Machine Learning training job.', version=None, formatter_class=<class 'argparse.HelpFormatter'>, conflict_handler='error', add_help=False), _specified_args={'staging_bucket': '--staging-bucket', 'verbosity': '--verbosity', 'package_path': '--package-path', 'module_name': '--module-name', 'region': '--region', 'config': '--config', 'job': 'JOB'}, account=None, async=False, authority_selector=None, authorization_token_file=None, calliope_command=<googlecloudsdk.calliope.backend.Command object at 0x10e3e81d0>, command_path=['gcloud', 'ml-engine', 'jobs', 'submit', 'training'], config='youtube-8m/cloudml-gpu.yaml', configuration=None, credential_file_override=None, document=None, flatten=None, format=None, h=None, help=None, http_timeout=None, job='yt8m_train_20170310_021549', job_dir=None, log_http=None, module_name='youtube-8m.train', package_path='youtube-8m', packages=[], project=None, quiet=None, region='europe-west1', runtime_version=None, scale_tier=None, staging_bucket=<googlecloudsdk.api_lib.storage.storage_util.BucketReference object at 0x10e5d6710>, trace_email=None, trace_log=None, trace_token=None, user_args=['--train_data_pattern=gs://kaggleyoutube-8m-mlengine/data/train*.tfrecord', '--model=LogisticModel', '--train_dir=kaggleyoutube-8m-mlengine/yt8m_train_video_level_logistic_model'], user_output_enabled=None, verbosity='debug', version=None).\n",
      "DEBUG: Looking for setup.py file at [/Users/fuyangliu/Workspace/kaggleyoutube-8m/setup.py]\n",
      "INFO: Generating temporary setup.py file:\n",
      "from setuptools import setup\n",
      "\n",
      "if __name__ == '__main__':\n",
      "    setup(name='youtube-8m', packages=['youtube-8m'])\n",
      "\n",
      "DEBUG: Executing command: ['/Users/fuyangliu/Workspace/kaggleyoutube-8m/venv/bin/python2', '/Users/fuyangliu/Workspace/kaggleyoutube-8m/setup.py', 'egg_info', '--egg-base', '/var/folders/h1/r703crvs2r91qx_j0lq3y5vr0000gn/T/tmpKLwDCn', 'build', '--build-base', '/var/folders/h1/r703crvs2r91qx_j0lq3y5vr0000gn/T/tmpKLwDCn', '--build-temp', '/var/folders/h1/r703crvs2r91qx_j0lq3y5vr0000gn/T/tmpKLwDCn', 'sdist', '--dist-dir', '/var/folders/h1/r703crvs2r91qx_j0lq3y5vr0000gn/T/tmpSWpTmn/output']\n",
      "DEBUG: Python packaging resulted in [/var/folders/h1/r703crvs2r91qx_j0lq3y5vr0000gn/T/tmpSWpTmn/output/youtube-8m-0.0.0.tar.gz]\n",
      "DEBUG: Couldn't remove file [/Users/fuyangliu/Workspace/kaggleyoutube-8m/setup.pyc] (it may never have been created).\n",
      "INFO: Uploading [/var/folders/h1/r703crvs2r91qx_j0lq3y5vr0000gn/T/tmpSWpTmn/output/youtube-8m-0.0.0.tar.gz] to [yt8m_train_20170310_021549/86ce8d2e2d4ea68979c322e2710c04870e860855/youtube-8m-0.0.0.tar.gz]\n",
      "DEBUG: Using [u'gs://kaggleyoutube-8m-mlengine/yt8m_train_20170310_021549/86ce8d2e2d4ea68979c322e2710c04870e860855/youtube-8m-0.0.0.tar.gz'] as trainer uris\n",
      "Job [yt8m_train_20170310_021549] submitted successfully.\n",
      "INFO\t2017-03-10 02:15:51 +0100\tunknown_task\t\tValidating job requirements...\n",
      "INFO\t2017-03-10 02:15:52 +0100\tunknown_task\t\tJob creation request has been successfully validated.\n",
      "INFO\t2017-03-10 02:15:52 +0100\tunknown_task\t\tJob yt8m_train_20170310_021549 is queued.\n",
      "INFO\t2017-03-10 02:15:57 +0100\tunknown_task\t\tWaiting for job to be provisioned.\n",
      "INFO\t2017-03-10 02:19:28 +0100\tunknown_task\t\tWaiting for TensorFlow to start.\n"
     ]
    }
   ],
   "source": [
    "d = datetime.datetime.today()\n",
    "d = d.strftime('%Y%m%d_%H%M%S')\n",
    "JOB_NAME = 'yt8m_train_' + d\n",
    "print JOB_NAME\n",
    "\n",
    "! gcloud --verbosity=debug ml-engine jobs \\\n",
    "    submit training $JOB_NAME \\\n",
    "    --package-path=youtube-8m --module-name=youtube-8m.train \\\n",
    "    --staging-bucket=gs://$BUCKET_NAME --region=$REGION \\\n",
    "    --config=youtube-8m/cloudml-gpu.yaml \\\n",
    "    -- --train_data_pattern=$train_data_pattern \\\n",
    "    --model=LogisticModel \\\n",
    "    --train_dir=$BUCKET_NAME/yt8m_train_video_level_logistic_model"
   ]
  },
  {
   "cell_type": "code",
   "execution_count": null,
   "metadata": {
    "collapsed": true
   },
   "outputs": [],
   "source": []
  },
  {
   "cell_type": "code",
   "execution_count": 52,
   "metadata": {
    "collapsed": false
   },
   "outputs": [
    {
     "name": "stdout",
     "output_type": "stream",
     "text": [
      "/bin/bash: export: No such file or directory\n",
      "\n"
     ]
    }
   ],
   "source": []
  },
  {
   "cell_type": "code",
   "execution_count": 32,
   "metadata": {
    "collapsed": false
   },
   "outputs": [
    {
     "data": {
      "text/plain": [
       "['Your active configuration is: [default]', '', 'kaggleyoutube-8m']"
      ]
     },
     "execution_count": 32,
     "metadata": {},
     "output_type": "execute_result"
    }
   ],
   "source": [
    "PROJECT_ID"
   ]
  },
  {
   "cell_type": "markdown",
   "metadata": {},
   "source": []
  },
  {
   "cell_type": "code",
   "execution_count": null,
   "metadata": {
    "collapsed": true
   },
   "outputs": [],
   "source": []
  }
 ],
 "metadata": {
  "kernelspec": {
   "display_name": "Python 2",
   "language": "python",
   "name": "python2"
  },
  "language_info": {
   "codemirror_mode": {
    "name": "ipython",
    "version": 2
   },
   "file_extension": ".py",
   "mimetype": "text/x-python",
   "name": "python",
   "nbconvert_exporter": "python",
   "pygments_lexer": "ipython2",
   "version": "2.7.10"
  }
 },
 "nbformat": 4,
 "nbformat_minor": 2
}
